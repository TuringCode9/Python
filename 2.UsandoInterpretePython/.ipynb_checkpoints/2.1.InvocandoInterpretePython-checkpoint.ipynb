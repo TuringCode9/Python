{
 "cells": [
  {
   "cell_type": "code",
   "execution_count": null,
   "id": "4e420134",
   "metadata": {},
   "outputs": [],
   "source": [
    "\"\"\"\n",
    ".El interprete de Python se encuentra en /usr/local/bin/python3.10\n",
    ".Podemos iniciar el interprete dgitando el siguiente comando en la terminal : python3.10\n",
    ".Podemos salir del intérprete con estado de salida cero (Ctrl + d) o quit().\n",
    "NOTA : INVESTIGAR SOBRE GNU READLINE,LINEA DE COMANDOS EN PYTHON\n",
    ".Cuando se llama al interprete de manera estandar conecta a una terminal,lee y ejecuta comandos de forma \n",
    " interactiva y cuando se llama con un argumento de nombre de archivo,lee y ejecuta un script desde ese archivo.\n",
    ".Ejecutar script y seguidamente ingresar alinterprete de manera interactiva,pasaremos -i antes del nombre del\n",
    " archivo.   -> $python3.10 -i myScript.py\n",
    "\"\"\"\n",
    "# Ejecución de manera interactiva\n",
    "zai@turing:~/Desktop/Python$ python3.10\n",
    "Python 3.10.3 (main, Mar 21 2022, 18:13:59) [GCC 9.4.0] on linux\n",
    "Type \"help\", \"copyright\", \"credits\" or \"license\" for more information.\n",
    ">>> print(\"Estamos aprendiendo Python\")  \n",
    "Estamos aprendiendo Python\n",
    ">>> for i in range(9):\n",
    "...     print(i)\n",
    "... \n",
    "0\n",
    "1\n",
    "2\n",
    "3\n",
    "4\n",
    "5\n",
    "6\n",
    "7\n",
    "8\n",
    "\n",
    "# Ejecución del interprete con un argumento de nombre de archivo\n",
    "zai@turing:~/Desktop$ python3.10 parNum.py \n",
    "3\n"
   ]
  },
  {
   "cell_type": "code",
   "execution_count": null,
   "id": "477ce2a9",
   "metadata": {},
   "outputs": [],
   "source": []
  }
 ],
 "metadata": {
  "kernelspec": {
   "display_name": "Python 3 (ipykernel)",
   "language": "python",
   "name": "python3"
  },
  "language_info": {
   "codemirror_mode": {
    "name": "ipython",
    "version": 3
   },
   "file_extension": ".py",
   "mimetype": "text/x-python",
   "name": "python",
   "nbconvert_exporter": "python",
   "pygments_lexer": "ipython3",
   "version": "3.10.4"
  }
 },
 "nbformat": 4,
 "nbformat_minor": 5
}

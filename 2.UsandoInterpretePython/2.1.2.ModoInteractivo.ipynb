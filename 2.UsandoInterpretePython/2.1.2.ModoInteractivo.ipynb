{
 "cells": [
  {
   "cell_type": "code",
   "execution_count": null,
   "id": "f1f1d34a",
   "metadata": {},
   "outputs": [],
   "source": [
    "\"\"\"\n",
    ".Los comandos se leen desde terminal decimos que el interprete esta en modo interactivo.\n",
    ".prompt primario(>>>) y el prompt secundario(...)\n",
    "¿Qué es prompt en programación?\n",
    " .Caracter o conjunto de caracteres que aparece en la línea de comandos para indicar que esta a la espera de \n",
    "  recibir ordenes.\n",
    " .Prompt de Python (>>>).\n",
    "\n",
    "\n",
    "\n",
    "\n",
    "\"\"\""
   ]
  }
 ],
 "metadata": {
  "kernelspec": {
   "display_name": "Python 3 (ipykernel)",
   "language": "python",
   "name": "python3"
  },
  "language_info": {
   "codemirror_mode": {
    "name": "ipython",
    "version": 3
   },
   "file_extension": ".py",
   "mimetype": "text/x-python",
   "name": "python",
   "nbconvert_exporter": "python",
   "pygments_lexer": "ipython3",
   "version": "3.10.4"
  }
 },
 "nbformat": 4,
 "nbformat_minor": 5
}

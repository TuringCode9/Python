{
 "cells": [
  {
   "cell_type": "code",
   "execution_count": null,
   "id": "049f1a0d",
   "metadata": {},
   "outputs": [],
   "source": [
    "\"\"\"\n",
    ".Muy util para automatizar tareas.\n",
    ".El ciclo para escribir software escribir/compilar/probar/recompilar.\n",
    ".Para automatizar tareas podemos escribir un shell de Unix.\n",
    "¿Qué es shell Unix?\n",
    " .Para referirse al interprete de comandos de los sistemas operativos basados en Unix.\n",
    " .El shell nos sirve para comunicarnos con el nucle y ejecutar comandos.\n",
    " .Shell -> \"cascara\".\n",
    " .Podemos crear ficheros ejecutables que se denominan shell-scripts.\n",
    " .Los usuarios de Unix pueden elegir entre distintas shells (bash,zsh,etc).\n",
    "\n",
    ".Python es multiplataforma,podemos interpretar archivos de Python tanto en Windows,Linux,MacOS.\n",
    ".Lenguaje de muy alto nivel,posee tipos de datos de alto nivel como listas flexibles y diccionarios.\n",
    "\n",
    "¿Qué es un lenguaje de muy alto nivel?\n",
    " .Un lenguaje de alto nivel se caracterisa por expresar los algoritmos de manera adecuada a la capacidad cognitiva\n",
    "  humana(entiendan las personas).\n",
    " .Pueden ser compilados o interpretados.\n",
    " \n",
    "\n",
    "\n",
    "\n",
    "\"\"\""
   ]
  }
 ],
 "metadata": {
  "kernelspec": {
   "display_name": "Python 3 (ipykernel)",
   "language": "python",
   "name": "python3"
  },
  "language_info": {
   "codemirror_mode": {
    "name": "ipython",
    "version": 3
   },
   "file_extension": ".py",
   "mimetype": "text/x-python",
   "name": "python",
   "nbconvert_exporter": "python",
   "pygments_lexer": "ipython3",
   "version": "3.10.4"
  }
 },
 "nbformat": 4,
 "nbformat_minor": 5
}

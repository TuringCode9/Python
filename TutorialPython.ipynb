{
 "cells": [
  {
   "cell_type": "code",
   "execution_count": null,
   "id": "d26a8d29",
   "metadata": {},
   "outputs": [],
   "source": [
    "\"\"\"\n",
    ".Lenguaje de programación.\n",
    "¿Qué es un lenguaje de programación?\n",
    " .Lenguaje con reglas gramaticales bien definidas que le proporciona a una persona la capacidad de escribir \n",
    " programas (programar) en una serie de instrucciones en forma de algoritmos para controlar el sistema fisico \n",
    " o lógico de un sistema informático.\n",
    "\n",
    ".Tipado dinamico: La variable puede tomar valor de distintos tipos.\n",
    ".Posee una naturaleza interpretada.\n",
    "\n",
    "¿Qué es el interprete en programación?\n",
    " .Programa informático capaz de analizar y ejecutar otros programas.\n",
    " .Los interpretes realizan la traducción de los programas,instrucción por instrucción y generalmente no se guarda\n",
    "  los resultado de dicha traducción.\n",
    " .Los interpretes pueden producir resultados iguales incluso en diferentes sistemas operativos.\n",
    " .Los programas interpretados suelen ser mas lentos que los programas compilados.\n",
    "\n",
    ".Lenguaje ideal para scripting.\n",
    "\n",
    "¿Qué es un script?\n",
    " .Secuencia de comandos o también conocido como guion se le denomina a un programa relativamente pequeño.\n",
    " .Los scripts normalmente son ejecutados por un interprete.\n",
    " .Se usan para automatizar tareas,interactuar con el sistema operativo,etc.\n",
    " .Existen lenguaje que son ideales para programar scrips(scripting language).Python es considerado un lenguaje \n",
    "  de scripting.\n",
    "  \n",
    "\n",
    "\n",
    "\n",
    "\n",
    "\n",
    "\n",
    "\n",
    "\"\"\""
   ]
  }
 ],
 "metadata": {
  "kernelspec": {
   "display_name": "Python 3 (ipykernel)",
   "language": "python",
   "name": "python3"
  },
  "language_info": {
   "codemirror_mode": {
    "name": "ipython",
    "version": 3
   },
   "file_extension": ".py",
   "mimetype": "text/x-python",
   "name": "python",
   "nbconvert_exporter": "python",
   "pygments_lexer": "ipython3",
   "version": "3.10.4"
  }
 },
 "nbformat": 4,
 "nbformat_minor": 5
}
